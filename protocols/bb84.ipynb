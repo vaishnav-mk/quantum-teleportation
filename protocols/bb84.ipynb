{
 "cells": [
  {
   "cell_type": "code",
   "execution_count": 189,
   "metadata": {},
   "outputs": [],
   "source": [
    "import numpy as np\n",
    "\n",
    "from qiskit import QuantumCircuit, ClassicalRegister, QuantumRegister, execute, BasicAer\n",
    "\n",
    "from qiskit.tools.visualization import plot_histogram"
   ]
  },
  {
   "cell_type": "code",
   "execution_count": 190,
   "metadata": {},
   "outputs": [],
   "source": [
    "n = 16\n",
    "qr = QuantumRegister(n, name='qr')\n",
    "cr = ClassicalRegister(n, name='cr')"
   ]
  },
  {
   "cell_type": "code",
   "execution_count": 191,
   "metadata": {},
   "outputs": [],
   "source": [
    "alice = QuantumCircuit(qr, cr, name='Alice')\n",
    "\n",
    "alice_key = np.random.randint(0, high=2**n)\n",
    "\n",
    "alice_key = np.binary_repr(alice_key, n) "
   ]
  },
  {
   "cell_type": "code",
   "execution_count": 192,
   "metadata": {},
   "outputs": [],
   "source": [
    "for index, digit in enumerate(alice_key):\n",
    "    if digit == '1':\n",
    "        alice.x(qr[index]) \n",
    "        \n",
    "alice_table = []        \n",
    "for index in range(len(qr)):       \n",
    "    if 0.5 < np.random.random():   \n",
    "        alice.h(qr[index])         \n",
    "        alice_table.append('X')    \n",
    "    else:\n",
    "        alice_table.append('Z')    "
   ]
  },
  {
   "cell_type": "code",
   "execution_count": 193,
   "metadata": {},
   "outputs": [],
   "source": [
    "def SendState(qc1, qc2, qc1_name):\n",
    "    ''' This function takes the output of a circuit qc1 (made up only of x and \n",
    "        h gates and initializes another circuit qc2 with the same state\n",
    "    ''' \n",
    "    \n",
    "    \n",
    "    qs = qc1.qasm().split(sep=';')[4:-1]\n",
    "\n",
    "    \n",
    "    for index, instruction in enumerate(qs):\n",
    "        qs[index] = instruction.lstrip()\n",
    "\n",
    "    \n",
    "    for instruction in qs:\n",
    "        if instruction[0] == 'x':\n",
    "            old_qr = int(instruction[5:-1])\n",
    "            qc2.x(qr[old_qr])\n",
    "        elif instruction[0] == 'h':\n",
    "            old_qr = int(instruction[5:-1])\n",
    "            qc2.h(qr[old_qr])\n",
    "        elif instruction[0] == 'm': \n",
    "            pass\n",
    "        else:\n",
    "            raise Exception('Unable to parse instruction')"
   ]
  },
  {
   "cell_type": "code",
   "execution_count": 194,
   "metadata": {},
   "outputs": [],
   "source": [
    "bob = QuantumCircuit(qr, cr, name='Bob')\n",
    "\n",
    "SendState(alice, bob, 'Alice')    \n",
    "\n",
    "\n",
    "bob_table = []\n",
    "for index in range(len(qr)): \n",
    "    if 0.5 < np.random.random():  \n",
    "        bob.h(qr[index])        \n",
    "        bob_table.append('X')\n",
    "    else:\n",
    "        bob_table.append('Z')"
   ]
  },
  {
   "cell_type": "code",
   "execution_count": 195,
   "metadata": {},
   "outputs": [
    {
     "data": {
      "image/png": "[encoded data removed]",
      "text/plain": [
       "<Figure size 700x500 with 1 Axes>"
      ]
     },
     "execution_count": 195,
     "metadata": {},
     "output_type": "execute_result"
    }
   ],
   "source": [
    "\n",
    "for index in range(len(qr)): \n",
    "    bob.measure(qr[index], cr[index])\n",
    "    \n",
    "\n",
    "backend = BasicAer.get_backend('qasm_simulator')    \n",
    "result = execute(bob, backend=backend, shots=1).result()\n",
    "plot_histogram(result.get_counts(bob))"
   ]
  },
  {
   "cell_type": "code",
   "execution_count": 196,
   "metadata": {},
   "outputs": [],
   "source": [
    "\n",
    "bob_key = list(result.get_counts(bob))[0]\n",
    "bob_key = bob_key[::-1]"
   ]
  },
  {
   "cell_type": "code",
   "execution_count": 197,
   "metadata": {},
   "outputs": [
    {
     "name": "stdout",
     "output_type": "stream",
     "text": [
      "Same choice for qubit: 0, basis: X\n",
      "Different choice for qubit: 1, Alice has X, Bob has Z\n",
      "Different choice for qubit: 2, Alice has X, Bob has Z\n",
      "Same choice for qubit: 3, basis: Z\n",
      "Different choice for qubit: 4, Alice has X, Bob has Z\n",
      "Different choice for qubit: 5, Alice has Z, Bob has X\n",
      "Different choice for qubit: 6, Alice has X, Bob has Z\n",
      "Same choice for qubit: 7, basis: X\n",
      "Different choice for qubit: 8, Alice has X, Bob has Z\n",
      "Same choice for qubit: 9, basis: X\n",
      "Same choice for qubit: 10, basis: X\n",
      "Different choice for qubit: 11, Alice has Z, Bob has X\n",
      "Same choice for qubit: 12, basis: X\n",
      "Same choice for qubit: 13, basis: Z\n",
      "Same choice for qubit: 14, basis: X\n",
      "Different choice for qubit: 15, Alice has X, Bob has Z\n"
     ]
    }
   ],
   "source": [
    "keep = []\n",
    "discard = []\n",
    "for qubit, basis in enumerate(zip(alice_table, bob_table)):\n",
    "    if basis[0] == basis[1]:\n",
    "        print(\"Same choice for qubit: {}, basis: {}\" .format(qubit, basis[0])) \n",
    "        keep.append(qubit)\n",
    "    else:\n",
    "        print(\"Different choice for qubit: {}, Alice has {}, Bob has {}\" .format(qubit, basis[0], basis[1]))\n",
    "        discard.append(qubit)"
   ]
  },
  {
   "cell_type": "code",
   "execution_count": 198,
   "metadata": {},
   "outputs": [
    {
     "name": "stdout",
     "output_type": "stream",
     "text": [
      "Percentage of qubits to be discarded according to table comparison:  0.5\n",
      "Measurement convergence by additional chance:  0.75\n"
     ]
    }
   ],
   "source": [
    "acc = 0\n",
    "for bit in zip(alice_key, bob_key):\n",
    "    if bit[0] == bit[1]:\n",
    "        acc += 1\n",
    "\n",
    "print('Percentage of qubits to be discarded according to table comparison: ', len(keep)/n)\n",
    "print('Measurement convergence by additional chance: ', acc/n)                "
   ]
  },
  {
   "cell_type": "code",
   "execution_count": 199,
   "metadata": {},
   "outputs": [
    {
     "name": "stdout",
     "output_type": "stream",
     "text": [
      "Percentage of similarity between the keys:  1.0\n"
     ]
    }
   ],
   "source": [
    "new_alice_key = [alice_key[qubit] for qubit in keep]\n",
    "new_bob_key = [bob_key[qubit] for qubit in keep]\n",
    "\n",
    "acc = 0\n",
    "for bit in zip(new_alice_key, new_bob_key):\n",
    "    if bit[0] == bit[1]:\n",
    "        acc += 1        \n",
    "        \n",
    "print('Percentage of similarity between the keys: ', acc/len(new_alice_key))             "
   ]
  },
  {
   "cell_type": "code",
   "execution_count": 200,
   "metadata": {},
   "outputs": [
    {
     "name": "stdout",
     "output_type": "stream",
     "text": [
      "Key exchange has been successfull\n",
      "New Alice's key:  ['0', '0', '1', '1', '0', '1', '0', '0']\n",
      "New Bob's key:  ['0', '0', '1', '1', '0', '1', '0', '0']\n"
     ]
    }
   ],
   "source": [
    "if (acc//len(new_alice_key) == 1):\n",
    "    print(\"Key exchange has been successfull\")\n",
    "    print(\"New Alice's key: \", new_alice_key)\n",
    "    print(\"New Bob's key: \", new_bob_key)\n",
    "else:\n",
    "    print(\"Key exchange has been tampered! Check for eavesdropper or try again\")\n",
    "    print(\"New Alice's key is invalid: \", new_alice_key)\n",
    "    print(\"New Bob's key is invalid: \", new_bob_key)"
   ]
  },
  {
   "cell_type": "markdown",
   "metadata": {},
   "source": [
    "# Eve (Eavesdropping Simulation)"
   ]
  },
  {
   "cell_type": "code",
   "execution_count": 201,
   "metadata": {},
   "outputs": [],
   "source": [
    "eve = QuantumCircuit(qr, cr, name='Eve')\n",
    "SendState(alice, eve, 'Alice')   "
   ]
  },
  {
   "cell_type": "code",
   "execution_count": 202,
   "metadata": {},
   "outputs": [],
   "source": [
    "eve_table = []\n",
    "for index in range(len(qr)): \n",
    "    if 0.5 < np.random.random(): \n",
    "        eve.h(qr[index])        \n",
    "        eve_table.append('X')\n",
    "    else:\n",
    "        eve_table.append('Z')"
   ]
  },
  {
   "cell_type": "code",
   "execution_count": 203,
   "metadata": {},
   "outputs": [],
   "source": [
    "for index in range(len(qr)): \n",
    "    eve.measure(qr[index], cr[index])\n",
    "    \n",
    "\n",
    "backend = BasicAer.get_backend('qasm_simulator')    \n",
    "result = execute(eve, backend=backend, shots=1).result()\n",
    "\n",
    "\n",
    "eve_key = list(result.get_counts(eve))[0]\n",
    "eve_key = eve_key[::-1]"
   ]
  },
  {
   "cell_type": "code",
   "execution_count": 204,
   "metadata": {},
   "outputs": [
    {
     "name": "stdout",
     "output_type": "stream",
     "text": [
      "Different choice for qubit: 0, Alice has X, Eve has Z\n",
      "Different choice for qubit: 1, Alice has X, Eve has Z\n",
      "Different choice for qubit: 2, Alice has X, Eve has Z\n",
      "Same choice for qubit: 3, basis: Z\n",
      "Different choice for qubit: 4, Alice has X, Eve has Z\n",
      "Different choice for qubit: 5, Alice has Z, Eve has X\n",
      "Same choice for qubit: 6, basis: X\n",
      "Different choice for qubit: 7, Alice has X, Eve has Z\n",
      "Same choice for qubit: 8, basis: X\n",
      "Same choice for qubit: 9, basis: X\n",
      "Different choice for qubit: 10, Alice has X, Eve has Z\n",
      "Same choice for qubit: 11, basis: Z\n",
      "Different choice for qubit: 12, Alice has X, Eve has Z\n",
      "Same choice for qubit: 13, basis: Z\n",
      "Same choice for qubit: 14, basis: X\n",
      "Same choice for qubit: 15, basis: X\n"
     ]
    }
   ],
   "source": [
    "\n",
    "for qubit, basis in enumerate(zip(alice_table, eve_table)):\n",
    "    if basis[0] == basis[1]:\n",
    "        print(\"Same choice for qubit: {}, basis: {}\" .format(qubit, basis[0]))\n",
    "    else:\n",
    "        print(\"Different choice for qubit: {}, Alice has {}, Eve has {}\" .format(qubit, basis[0], basis[1]))\n",
    "        if eve_key[qubit] == alice_key[qubit]:\n",
    "            eve.h(qr[qubit])\n",
    "        else:\n",
    "            if basis[0] == 'X' and basis[1] == 'Z':\n",
    "                eve.h(qr[qubit])\n",
    "                eve.x(qr[qubit])\n",
    "            else:\n",
    "                eve.x(qr[qubit])\n",
    "                eve.h(qr[qubit])"
   ]
  },
  {
   "cell_type": "code",
   "execution_count": 205,
   "metadata": {},
   "outputs": [
    {
     "data": {
      "image/png": "[encoded data removed]",
      "text/plain": [
       "<Figure size 700x500 with 1 Axes>"
      ]
     },
     "execution_count": 205,
     "metadata": {},
     "output_type": "execute_result"
    }
   ],
   "source": [
    "SendState(eve, bob, 'Eve')\n",
    "          \n",
    "bob_table = []\n",
    "for index in range(len(qr)): \n",
    "    if 0.5 < np.random.random(): \n",
    "        bob.h(qr[index])      \n",
    "        bob_table.append('X')\n",
    "    else:\n",
    "        bob_table.append('Z')\n",
    "          \n",
    "for index in range(len(qr)): \n",
    "    bob.measure(qr[index], cr[index])\n",
    "          \n",
    "result = execute(bob, backend=backend, shots=1).result()\n",
    "plot_histogram(result.get_counts(bob))"
   ]
  }
 ],
 "metadata": {
  "kernelspec": {
   "display_name": "Python 3",
   "language": "python",
   "name": "python3"
  },
  "language_info": {
   "codemirror_mode": {
    "name": "ipython",
    "version": 3
   },
   "file_extension": ".py",
   "mimetype": "text/x-python",
   "name": "python",
   "nbconvert_exporter": "python",
   "pygments_lexer": "ipython3",
   "version": "3.11.9"
  }
 },
 "nbformat": 4,
 "nbformat_minor": 2
}
