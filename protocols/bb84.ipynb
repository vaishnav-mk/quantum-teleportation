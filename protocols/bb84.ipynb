{
 "cells": [
  {
   "cell_type": "code",
   "execution_count": null,
   "metadata": {},
   "outputs": [
    {
     "ename": "",
     "evalue": "",
     "output_type": "error",
     "traceback": [
      "\u001b[1;31mRunning cells with 'Python 3.10.14' requires the ipykernel package.\n",
      "\u001b[1;31mRun the following command to install 'ipykernel' into the Python environment. \n",
      "\u001b[1;31mCommand: '/home/wishee/.pyenv/versions/3.10.14/bin/python -m pip install ipykernel -U --force-reinstall'"
     ]
    }
   ],
   "source": [
    "import numpy as np\n",
    "\n",
    "from qiskit import QuantumCircuit, ClassicalRegister, QuantumRegister, execute, BasicAer\n",
    "\n",
    "from qiskit.tools.visualization import plot_histogram"
   ]
  },
  {
   "cell_type": "code",
   "execution_count": null,
   "metadata": {},
   "outputs": [
    {
     "ename": "",
     "evalue": "",
     "output_type": "error",
     "traceback": [
      "\u001b[1;31mRunning cells with 'Python 3.10.14' requires the ipykernel package.\n",
      "\u001b[1;31mRun the following command to install 'ipykernel' into the Python environment. \n",
      "\u001b[1;31mCommand: '/home/wishee/.pyenv/versions/3.10.14/bin/python -m pip install ipykernel -U --force-reinstall'"
     ]
    }
   ],
   "source": [
    "n = 16\n",
    "qr = QuantumRegister(n, name='qr')\n",
    "cr = ClassicalRegister(n, name='cr')"
   ]
  },
  {
   "cell_type": "code",
   "execution_count": null,
   "metadata": {},
   "outputs": [
    {
     "ename": "",
     "evalue": "",
     "output_type": "error",
     "traceback": [
      "\u001b[1;31mRunning cells with 'Python 3.10.14' requires the ipykernel package.\n",
      "\u001b[1;31mRun the following command to install 'ipykernel' into the Python environment. \n",
      "\u001b[1;31mCommand: '/home/wishee/.pyenv/versions/3.10.14/bin/python -m pip install ipykernel -U --force-reinstall'"
     ]
    }
   ],
   "source": [
    "alice = QuantumCircuit(qr, cr, name='Alice')\n",
    "\n",
    "alice_key = np.random.randint(0, high=2**n)\n",
    "\n",
    "alice_key = np.binary_repr(alice_key, n) "
   ]
  },
  {
   "cell_type": "code",
   "execution_count": null,
   "metadata": {},
   "outputs": [
    {
     "ename": "",
     "evalue": "",
     "output_type": "error",
     "traceback": [
      "\u001b[1;31mRunning cells with 'Python 3.10.14' requires the ipykernel package.\n",
      "\u001b[1;31mRun the following command to install 'ipykernel' into the Python environment. \n",
      "\u001b[1;31mCommand: '/home/wishee/.pyenv/versions/3.10.14/bin/python -m pip install ipykernel -U --force-reinstall'"
     ]
    }
   ],
   "source": [
    "for index, digit in enumerate(alice_key):\n",
    "    if digit == '1':\n",
    "        alice.x(qr[index]) \n",
    "        \n",
    "alice_table = []        \n",
    "for index in range(len(qr)):       \n",
    "    if 0.5 < np.random.random():   \n",
    "        alice.h(qr[index])         \n",
    "        alice_table.append('X')    \n",
    "    else:\n",
    "        alice_table.append('Z')    "
   ]
  },
  {
   "cell_type": "code",
   "execution_count": null,
   "metadata": {},
   "outputs": [
    {
     "ename": "",
     "evalue": "",
     "output_type": "error",
     "traceback": [
      "\u001b[1;31mRunning cells with 'Python 3.10.14' requires the ipykernel package.\n",
      "\u001b[1;31mRun the following command to install 'ipykernel' into the Python environment. \n",
      "\u001b[1;31mCommand: '/home/wishee/.pyenv/versions/3.10.14/bin/python -m pip install ipykernel -U --force-reinstall'"
     ]
    }
   ],
   "source": [
    "def SendState(qc1, qc2, qc1_name):\n",
    "    ''' This function takes the output of a circuit qc1 (made up only of x and \n",
    "        h gates and initializes another circuit qc2 with the same state\n",
    "    ''' \n",
    "    \n",
    "    \n",
    "    qs = qc1.qasm().split(sep=';')[4:-1]\n",
    "\n",
    "    \n",
    "    for index, instruction in enumerate(qs):\n",
    "        qs[index] = instruction.lstrip()\n",
    "\n",
    "    \n",
    "    for instruction in qs:\n",
    "        if instruction[0] == 'x':\n",
    "            old_qr = int(instruction[5:-1])\n",
    "            qc2.x(qr[old_qr])\n",
    "        elif instruction[0] == 'h':\n",
    "            old_qr = int(instruction[5:-1])\n",
    "            qc2.h(qr[old_qr])\n",
    "        elif instruction[0] == 'm': \n",
    "            pass\n",
    "        else:\n",
    "            raise Exception('Unable to parse instruction')"
   ]
  },
  {
   "cell_type": "code",
   "execution_count": null,
   "metadata": {},
   "outputs": [
    {
     "ename": "",
     "evalue": "",
     "output_type": "error",
     "traceback": [
      "\u001b[1;31mRunning cells with 'Python 3.10.14' requires the ipykernel package.\n",
      "\u001b[1;31mRun the following command to install 'ipykernel' into the Python environment. \n",
      "\u001b[1;31mCommand: '/home/wishee/.pyenv/versions/3.10.14/bin/python -m pip install ipykernel -U --force-reinstall'"
     ]
    }
   ],
   "source": [
    "bob = QuantumCircuit(qr, cr, name='Bob')\n",
    "\n",
    "SendState(alice, bob, 'Alice')    \n",
    "\n",
    "\n",
    "bob_table = []\n",
    "for index in range(len(qr)): \n",
    "    if 0.5 < np.random.random():  \n",
    "        bob.h(qr[index])        \n",
    "        bob_table.append('X')\n",
    "    else:\n",
    "        bob_table.append('Z')"
   ]
  },
  {
   "cell_type": "code",
   "execution_count": null,
   "metadata": {},
   "outputs": [
    {
     "ename": "",
     "evalue": "",
     "output_type": "error",
     "traceback": [
      "\u001b[1;31mRunning cells with 'Python 3.10.14' requires the ipykernel package.\n",
      "\u001b[1;31mRun the following command to install 'ipykernel' into the Python environment. \n",
      "\u001b[1;31mCommand: '/home/wishee/.pyenv/versions/3.10.14/bin/python -m pip install ipykernel -U --force-reinstall'"
     ]
    }
   ],
   "source": [
    "\n",
    "for index in range(len(qr)): \n",
    "    bob.measure(qr[index], cr[index])\n",
    "    \n",
    "\n",
    "backend = BasicAer.get_backend('qasm_simulator')    \n",
    "result = execute(bob, backend=backend, shots=1).result()\n",
    "plot_histogram(result.get_counts(bob))"
   ]
  },
  {
   "cell_type": "code",
   "execution_count": null,
   "metadata": {},
   "outputs": [
    {
     "ename": "",
     "evalue": "",
     "output_type": "error",
     "traceback": [
      "\u001b[1;31mRunning cells with 'Python 3.10.14' requires the ipykernel package.\n",
      "\u001b[1;31mRun the following command to install 'ipykernel' into the Python environment. \n",
      "\u001b[1;31mCommand: '/home/wishee/.pyenv/versions/3.10.14/bin/python -m pip install ipykernel -U --force-reinstall'"
     ]
    }
   ],
   "source": [
    "\n",
    "bob_key = list(result.get_counts(bob))[0]\n",
    "bob_key = bob_key[::-1]"
   ]
  },
  {
   "cell_type": "code",
   "execution_count": null,
   "metadata": {},
   "outputs": [
    {
     "ename": "",
     "evalue": "",
     "output_type": "error",
     "traceback": [
      "\u001b[1;31mRunning cells with 'Python 3.10.14' requires the ipykernel package.\n",
      "\u001b[1;31mRun the following command to install 'ipykernel' into the Python environment. \n",
      "\u001b[1;31mCommand: '/home/wishee/.pyenv/versions/3.10.14/bin/python -m pip install ipykernel -U --force-reinstall'"
     ]
    }
   ],
   "source": [
    "keep = []\n",
    "discard = []\n",
    "for qubit, basis in enumerate(zip(alice_table, bob_table)):\n",
    "    if basis[0] == basis[1]:\n",
    "        print(\"Same choice for qubit: {}, basis: {}\" .format(qubit, basis[0])) \n",
    "        keep.append(qubit)\n",
    "    else:\n",
    "        print(\"Different choice for qubit: {}, Alice has {}, Bob has {}\" .format(qubit, basis[0], basis[1]))\n",
    "        discard.append(qubit)"
   ]
  },
  {
   "cell_type": "code",
   "execution_count": null,
   "metadata": {},
   "outputs": [
    {
     "ename": "",
     "evalue": "",
     "output_type": "error",
     "traceback": [
      "\u001b[1;31mRunning cells with 'Python 3.10.14' requires the ipykernel package.\n",
      "\u001b[1;31mRun the following command to install 'ipykernel' into the Python environment. \n",
      "\u001b[1;31mCommand: '/home/wishee/.pyenv/versions/3.10.14/bin/python -m pip install ipykernel -U --force-reinstall'"
     ]
    }
   ],
   "source": [
    "acc = 0\n",
    "for bit in zip(alice_key, bob_key):\n",
    "    if bit[0] == bit[1]:\n",
    "        acc += 1\n",
    "\n",
    "print('Percentage of qubits to be discarded according to table comparison: ', len(keep)/n)\n",
    "print('Measurement convergence by additional chance: ', acc/n)                "
   ]
  },
  {
   "cell_type": "code",
   "execution_count": null,
   "metadata": {},
   "outputs": [
    {
     "ename": "",
     "evalue": "",
     "output_type": "error",
     "traceback": [
      "\u001b[1;31mRunning cells with 'Python 3.10.14' requires the ipykernel package.\n",
      "\u001b[1;31mRun the following command to install 'ipykernel' into the Python environment. \n",
      "\u001b[1;31mCommand: '/home/wishee/.pyenv/versions/3.10.14/bin/python -m pip install ipykernel -U --force-reinstall'"
     ]
    }
   ],
   "source": [
    "new_alice_key = [alice_key[qubit] for qubit in keep]\n",
    "new_bob_key = [bob_key[qubit] for qubit in keep]\n",
    "\n",
    "acc = 0\n",
    "for bit in zip(new_alice_key, new_bob_key):\n",
    "    if bit[0] == bit[1]:\n",
    "        acc += 1        \n",
    "        \n",
    "print('Percentage of similarity between the keys: ', acc/len(new_alice_key))             "
   ]
  },
  {
   "cell_type": "code",
   "execution_count": null,
   "metadata": {},
   "outputs": [
    {
     "ename": "",
     "evalue": "",
     "output_type": "error",
     "traceback": [
      "\u001b[1;31mRunning cells with 'Python 3.10.14' requires the ipykernel package.\n",
      "\u001b[1;31mRun the following command to install 'ipykernel' into the Python environment. \n",
      "\u001b[1;31mCommand: '/home/wishee/.pyenv/versions/3.10.14/bin/python -m pip install ipykernel -U --force-reinstall'"
     ]
    }
   ],
   "source": [
    "if (acc//len(new_alice_key) == 1):\n",
    "    print(\"Key exchange has been successfull\")\n",
    "    print(\"New Alice's key: \", new_alice_key)\n",
    "    print(\"New Bob's key: \", new_bob_key)\n",
    "else:\n",
    "    print(\"Key exchange has been tampered! Check for eavesdropper or try again\")\n",
    "    print(\"New Alice's key is invalid: \", new_alice_key)\n",
    "    print(\"New Bob's key is invalid: \", new_bob_key)"
   ]
  },
  {
   "cell_type": "markdown",
   "metadata": {},
   "source": []
  },
  {
   "cell_type": "code",
   "execution_count": null,
   "metadata": {},
   "outputs": [
    {
     "ename": "",
     "evalue": "",
     "output_type": "error",
     "traceback": [
      "\u001b[1;31mRunning cells with 'Python 3.10.14' requires the ipykernel package.\n",
      "\u001b[1;31mRun the following command to install 'ipykernel' into the Python environment. \n",
      "\u001b[1;31mCommand: '/home/wishee/.pyenv/versions/3.10.14/bin/python -m pip install ipykernel -U --force-reinstall'"
     ]
    }
   ],
   "source": [
    "eve = QuantumCircuit(qr, cr, name='Eve')\n",
    "SendState(alice, eve, 'Alice')   "
   ]
  },
  {
   "cell_type": "code",
   "execution_count": null,
   "metadata": {},
   "outputs": [
    {
     "ename": "",
     "evalue": "",
     "output_type": "error",
     "traceback": [
      "\u001b[1;31mRunning cells with 'Python 3.10.14' requires the ipykernel package.\n",
      "\u001b[1;31mRun the following command to install 'ipykernel' into the Python environment. \n",
      "\u001b[1;31mCommand: '/home/wishee/.pyenv/versions/3.10.14/bin/python -m pip install ipykernel -U --force-reinstall'"
     ]
    }
   ],
   "source": [
    "eve_table = []\n",
    "for index in range(len(qr)): \n",
    "    if 0.5 < np.random.random(): \n",
    "        eve.h(qr[index])        \n",
    "        eve_table.append('X')\n",
    "    else:\n",
    "        eve_table.append('Z')"
   ]
  },
  {
   "cell_type": "code",
   "execution_count": null,
   "metadata": {},
   "outputs": [
    {
     "ename": "",
     "evalue": "",
     "output_type": "error",
     "traceback": [
      "\u001b[1;31mRunning cells with 'Python 3.10.14' requires the ipykernel package.\n",
      "\u001b[1;31mRun the following command to install 'ipykernel' into the Python environment. \n",
      "\u001b[1;31mCommand: '/home/wishee/.pyenv/versions/3.10.14/bin/python -m pip install ipykernel -U --force-reinstall'"
     ]
    }
   ],
   "source": [
    "for index in range(len(qr)): \n",
    "    eve.measure(qr[index], cr[index])\n",
    "    \n",
    "\n",
    "backend = BasicAer.get_backend('qasm_simulator')    \n",
    "result = execute(eve, backend=backend, shots=1).result()\n",
    "\n",
    "\n",
    "eve_key = list(result.get_counts(eve))[0]\n",
    "eve_key = eve_key[::-1]"
   ]
  },
  {
   "cell_type": "code",
   "execution_count": null,
   "metadata": {},
   "outputs": [
    {
     "ename": "",
     "evalue": "",
     "output_type": "error",
     "traceback": [
      "\u001b[1;31mRunning cells with 'Python 3.10.14' requires the ipykernel package.\n",
      "\u001b[1;31mRun the following command to install 'ipykernel' into the Python environment. \n",
      "\u001b[1;31mCommand: '/home/wishee/.pyenv/versions/3.10.14/bin/python -m pip install ipykernel -U --force-reinstall'"
     ]
    }
   ],
   "source": [
    "\n",
    "for qubit, basis in enumerate(zip(alice_table, eve_table)):\n",
    "    if basis[0] == basis[1]:\n",
    "        print(\"Same choice for qubit: {}, basis: {}\" .format(qubit, basis[0]))\n",
    "    else:\n",
    "        print(\"Different choice for qubit: {}, Alice has {}, Eve has {}\" .format(qubit, basis[0], basis[1]))\n",
    "        if eve_key[qubit] == alice_key[qubit]:\n",
    "            eve.h(qr[qubit])\n",
    "        else:\n",
    "            if basis[0] == 'X' and basis[1] == 'Z':\n",
    "                eve.h(qr[qubit])\n",
    "                eve.x(qr[qubit])\n",
    "            else:\n",
    "                eve.x(qr[qubit])\n",
    "                eve.h(qr[qubit])"
   ]
  },
  {
   "cell_type": "code",
   "execution_count": null,
   "metadata": {},
   "outputs": [
    {
     "ename": "",
     "evalue": "",
     "output_type": "error",
     "traceback": [
      "\u001b[1;31mRunning cells with 'Python 3.10.14' requires the ipykernel package.\n",
      "\u001b[1;31mRun the following command to install 'ipykernel' into the Python environment. \n",
      "\u001b[1;31mCommand: '/home/wishee/.pyenv/versions/3.10.14/bin/python -m pip install ipykernel -U --force-reinstall'"
     ]
    }
   ],
   "source": [
    "SendState(eve, bob, 'Eve')\n",
    "          \n",
    "bob_table = []\n",
    "for index in range(len(qr)): \n",
    "    if 0.5 < np.random.random(): \n",
    "        bob.h(qr[index])      \n",
    "        bob_table.append('X')\n",
    "    else:\n",
    "        bob_table.append('Z')\n",
    "          \n",
    "for index in range(len(qr)): \n",
    "    bob.measure(qr[index], cr[index])\n",
    "          \n",
    "result = execute(bob, backend=backend, shots=1).result()\n",
    "plot_histogram(result.get_counts(bob))"
   ]
  },
  {
   "cell_type": "code",
   "execution_count": null,
   "metadata": {},
   "outputs": [
    {
     "ename": "",
     "evalue": "",
     "output_type": "error",
     "traceback": [
      "\u001b[1;31mRunning cells with 'Python 3.10.14' requires the ipykernel package.\n",
      "\u001b[1;31mRun the following command to install 'ipykernel' into the Python environment. \n",
      "\u001b[1;31mCommand: '/home/wishee/.pyenv/versions/3.10.14/bin/python -m pip install ipykernel -U --force-reinstall'"
     ]
    }
   ],
   "source": [
    "import qiskit\n",
    "qiskit.__qiskit_version__"
   ]
  }
 ],
 "metadata": {
  "kernelspec": {
   "display_name": "Python 3",
   "language": "python",
   "name": "python3"
  },
  "language_info": {
   "codemirror_mode": {
    "name": "ipython",
    "version": 3
   },
   "file_extension": ".py",
   "mimetype": "text/x-python",
   "name": "python",
   "nbconvert_exporter": "python",
   "pygments_lexer": "ipython3",
   "version": "3.10.14"
  }
 },
 "nbformat": 4,
 "nbformat_minor": 2
}
